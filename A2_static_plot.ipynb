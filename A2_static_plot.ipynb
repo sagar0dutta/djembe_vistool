{
 "cells": [
  {
   "cell_type": "code",
   "execution_count": 1,
   "metadata": {},
   "outputs": [],
   "source": [
    "import os\n",
    "import pickle\n",
    "import pandas as pd\n",
    "import numpy as np\n",
    "import matplotlib.pyplot as plt\n",
    "from scipy.stats import norm\n",
    "\n",
    "\n",
    "from utils_subdivision.gen_distribution_single_plots import analyze_phases\n",
    "from utils_subdivision.gen_distribution_subplot import plot_combined\n",
    "from utils_subdivision.gen_distribution_merged_plot import plot_merged, plot_merged_stacked\n"
   ]
  },
  {
   "cell_type": "code",
   "execution_count": 2,
   "metadata": {},
   "outputs": [],
   "source": [
    "def get_output_dir(filename, start_time, end_time):\n",
    "    \"\"\"Create and return output directory path based on filename and time range\"\"\"\n",
    "    # filename = os.path.splitext(os.path.basename(bvh_file))[0]\n",
    "    dir_name = f\"{filename}_{start_time:.1f}_{end_time:.1f}\"\n",
    "    output_dir = os.path.join(\"output_static_plot\", dir_name)\n",
    "    os.makedirs(output_dir, exist_ok=True)\n",
    "    return output_dir\n",
    "\n"
   ]
  },
  {
   "cell_type": "code",
   "execution_count": 3,
   "metadata": {},
   "outputs": [],
   "source": [
    "file_name = \"BKO_E1_D1_02_Maraka\"\n",
    "cycles_csv_path = f\"data/virtual_cycles/{file_name}_C.csv\"\n",
    "onsets_csv_path = f\"data/drum_onsets/{file_name}.csv\"\n",
    "W_start = 70\n",
    "W_end = 75\n",
    "\n",
    "static_save_dir = get_output_dir(file_name, W_start, W_end)"
   ]
  },
  {
   "cell_type": "code",
   "execution_count": 4,
   "metadata": {},
   "outputs": [
    {
     "name": "stdout",
     "output_type": "stream",
     "text": [
      "[(74.84, 91.68), (92.085, 116.46), (112.76, 143.14), (161.5, 178.1), (178.1, 198.288), (195.16, 221.579), (249.78, 266.556), (250.5, 266.737), (265.74, 288.46), (312.86, 333.605), (315.635, 333.6), (334.712, 359.804)]\n"
     ]
    }
   ],
   "source": [
    "mode_dir = f\"data/dance_modes_ts\"\n",
    "rec_name = \"BKO_E1_D1_01_Suku\"\n",
    "modes = [\"_group\", \"_individual\", \"_audience\"]\n",
    "\n",
    "rec_mode = rec_name + modes[2] + \".pkl\"\n",
    "\n",
    "fpath = os.path.join(mode_dir, rec_mode)\n",
    "\n",
    "with open(fpath, \"rb\") as f:\n",
    "    cycle_segments = pickle.load(f)\n",
    "\n",
    "print(cycle_segments)"
   ]
  },
  {
   "cell_type": "markdown",
   "metadata": {},
   "source": [
    "### Individual plots"
   ]
  },
  {
   "cell_type": "code",
   "execution_count": 5,
   "metadata": {},
   "outputs": [
    {
     "name": "stdout",
     "output_type": "stream",
     "text": [
      "Total onsets: 1830\n",
      "Saved plot for Dun to output_static_plot\\BKO_E1_D1_02_Maraka_Dun_full_duration_subplot.png\n",
      "Total onsets: 1830\n",
      "Saved plot for J1 to output_static_plot\\BKO_E1_D1_02_Maraka_J1_full_duration_subplot.png\n",
      "Total onsets: 1830\n",
      "Saved plot for J2 to output_static_plot\\BKO_E1_D1_02_Maraka_J2_full_duration_subplot.png\n"
     ]
    }
   ],
   "source": [
    "\n",
    "# Set figure size (width, height) \n",
    "figsize1 = (10, 3)  \n",
    "dpi1 = 200         \n",
    "use_window = False\n",
    "\n",
    "os.makedirs(static_save_dir, exist_ok=True)\n",
    "\n",
    "# Process all onset types\n",
    "onset_types = [\"Dun\", \"J1\", \"J2\"]\n",
    "for onset_type in onset_types:\n",
    "    # Create save path for this onset type\n",
    "    # save_path = os.path.join(static_save_dir, f\"{file_name}_{onset_type}_{W_start}_{W_end}.png\")\n",
    "    \n",
    "    \n",
    "    if not use_window:\n",
    "        save_path = f\"output_static_plot\\\\{file_name}_{onset_type}_full_duration_subplot.png\"\n",
    "    else:\n",
    "        save_path = os.path.join(static_save_dir, f\"{file_name}_{onset_type}_{W_start}_{W_end}.png\")\n",
    "    \n",
    "    # Analyze phases and save plot\n",
    "    analyze_phases(\n",
    "        cycles_csv_path, onsets_csv_path, onset_type, W_start, W_end,\n",
    "        save_path=save_path, figsize=figsize1, dpi=dpi1,\n",
    "        use_window=use_window\n",
    "    )\n",
    "    \n",
    "    # analyze_phases(\n",
    "    # cycles_csv_path, onsets_csv_path, onset_type,\n",
    "    # save_path=save_path, figsize=figsize1, dpi=dpi1,\n",
    "    # use_window=False\n",
    "    # )\n",
    "    \n",
    "    print(f\"Saved plot for {onset_type} to {save_path}\")"
   ]
  },
  {
   "cell_type": "markdown",
   "metadata": {},
   "source": [
    "### Combined Subplot"
   ]
  },
  {
   "cell_type": "code",
   "execution_count": null,
   "metadata": {},
   "outputs": [],
   "source": [
    "# file_name = \"BKO_E1_D1_02_Maraka\"\n",
    "# cycles_csv_path = f\"data/virtual_cycles/{file_name}_C.csv\"\n",
    "# onsets_csv_path = f\"data/drum_onsets/{file_name}.csv\"\n",
    "# W_start = 70    \n",
    "# W_end = 75\n",
    "use_window = True\n",
    "figsize2 = (10, 9)  \n",
    "dpi2 = 200       \n",
    "fig, _ = plot_combined(file_name, cycles_csv_path, onsets_csv_path, W_start, W_end, figsize=figsize2, dpi=dpi2, use_window=use_window)\n",
    "\n",
    "\n",
    "if not use_window:\n",
    "    save_path = f\"output_static_plot\\\\{file_name}_full_duration_subplot.png\"\n",
    "else:\n",
    "    save_path = os.path.join(static_save_dir, f\"{file_name}_{W_start}_{W_end}__subplot.png\")\n",
    "\n",
    "fig.savefig(save_path, bbox_inches='tight', dpi=dpi2)\n",
    "plt.close(fig)  # Close the figure to free memory "
   ]
  },
  {
   "cell_type": "markdown",
   "metadata": {},
   "source": [
    "### Merged Plot"
   ]
  },
  {
   "cell_type": "code",
   "execution_count": 4,
   "metadata": {},
   "outputs": [
    {
     "name": "stdout",
     "output_type": "stream",
     "text": [
      "Dun - Total onsets: 1830\n",
      "J1 - Total onsets: 1830\n",
      "J2 - Total onsets: 1830\n"
     ]
    }
   ],
   "source": [
    "# file_name = \"BKO_E1_D1_02_Maraka\"\n",
    "# cycles_csv_path = f\"data/virtual_cycles/{file_name}_C.csv\"\n",
    "# onsets_csv_path = f\"data/drum_onsets/{file_name}.csv\"\n",
    "# W_start = 70    \n",
    "# W_end = 75\n",
    "\n",
    "figsize3 = (10, 5)  \n",
    "dpi3 = 300    \n",
    "\n",
    "fig, _ = plot_merged_stacked(file_name, cycles_csv_path, onsets_csv_path, W_start, W_end, \n",
    "                            figsize=figsize3, dpi=dpi3,\n",
    "                            use_window=False)\n",
    "\n",
    "# save_path = os.path.join(static_save_dir, f\"{file_name}_{W_start}_{W_end}_merged.png\")\n",
    "\n",
    "save_path3 = f\"output_static_plot\\\\{file_name}_full_duration_merged_stacked.png\"\n",
    "fig.savefig(save_path3, bbox_inches='tight', dpi=dpi3)\n",
    "plt.close(fig)  # Close the figure to free memory "
   ]
  },
  {
   "cell_type": "markdown",
   "metadata": {},
   "source": []
  }
 ],
 "metadata": {
  "kernelspec": {
   "display_name": "base",
   "language": "python",
   "name": "python3"
  },
  "language_info": {
   "codemirror_mode": {
    "name": "ipython",
    "version": 3
   },
   "file_extension": ".py",
   "mimetype": "text/x-python",
   "name": "python",
   "nbconvert_exporter": "python",
   "pygments_lexer": "ipython3",
   "version": "3.11.10"
  }
 },
 "nbformat": 4,
 "nbformat_minor": 2
}
