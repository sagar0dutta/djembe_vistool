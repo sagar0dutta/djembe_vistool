{
 "cells": [
  {
   "cell_type": "code",
   "execution_count": 1,
   "metadata": {},
   "outputs": [],
   "source": [
    "import os\n",
    "import pickle\n",
    "import random\n",
    "import numpy as np\n",
    "import pandas as pd\n",
    "# import cv2\n",
    "# import matplotlib\n",
    "# matplotlib.use('Agg')  # Use non-interactive backend\n",
    "# import matplotlib.pyplot as plt\n",
    "# import matplotlib.animation as animation\n",
    "# from matplotlib.lines import Line2D\n",
    "# from scipy.interpolate import interp1d\n",
    "# import subprocess\n",
    "\n",
    "from utils_pipeline.pipeline_B import *"
   ]
  },
  {
   "cell_type": "markdown",
   "metadata": {},
   "source": [
    "### Prepare window around beats and subdivision"
   ]
  },
  {
   "cell_type": "code",
   "execution_count": 2,
   "metadata": {},
   "outputs": [
    {
     "name": "stdout",
     "output_type": "stream",
     "text": [
      "Loaded cycle_segments from BKO_E1_D1_02_Maraka_included_0.4.pkl\n",
      "cycle_segments: [(166.55722222199998, 168.02211111066666), (168.02211111066666, 169.503), (169.503, 170.9785555553333), (170.9785555553333, 172.4505555553333), (172.4505555553333, 173.9083333333333), (173.9083333333333, 175.364333333), (175.364333333, 176.802555555), (176.802555555, 178.222111111), (198.59099999966668, 199.94477777766667), (328.99099999966666, 330.274555555), (330.274555555, 331.5225555553333), (331.5225555553333, 332.758111111), (332.758111111, 333.9989999996667), (333.9989999996667, 335.2452222223333), (335.2452222223333, 336.5394444445)]\n",
      "Number of windows for each beat/subdivision:\n",
      "  beat_1: 15 windows\n",
      "  beat_2: 15 windows\n",
      "  beat_3: 15 windows\n",
      "  beat_4: 15 windows\n",
      "  subdiv_2: 15 windows\n",
      "  subdiv_3: 15 windows\n",
      "  subdiv_5: 15 windows\n",
      "  subdiv_6: 15 windows\n",
      "  subdiv_8: 15 windows\n",
      "  subdiv_9: 15 windows\n",
      "  subdiv_11: 15 windows\n",
      "  subdiv_12: 15 windows\n"
     ]
    }
   ],
   "source": [
    "traj_dir  = \"traj_files\"\n",
    "base_name = \"BKO_E1_D1_02_Maraka\"\n",
    "status    = \"included\"   # or \"excluded\"\n",
    "value     = \"0.4\"        # or any other threshold\n",
    "\n",
    "cycle_segs, windows = compute_windows(traj_dir, base_name, status, value)"
   ]
  },
  {
   "cell_type": "markdown",
   "metadata": {},
   "source": [
    "### Generate trajectory video + dance video plots"
   ]
  },
  {
   "cell_type": "code",
   "execution_count": null,
   "metadata": {},
   "outputs": [],
   "source": [
    "rec_name = \"BKO_E1_D1_02_Maraka\"\n",
    "w_key = \"subdiv_2\"\n",
    "vid_plot_path = f\"cycle_videos/{rec_name}/{w_key}/\"\n",
    "\n",
    "traj_tuples = random.sample(windows[w_key], 2)  # Randomly sample 2 tuples from the list\n",
    "\n",
    "# traj_tuples = windows[w_key][0:nb]\n",
    "print(windows.keys())\n",
    "print(len(windows[w_key]))"
   ]
  },
  {
   "cell_type": "code",
   "execution_count": null,
   "metadata": {},
   "outputs": [],
   "source": [
    "extract_cycle_videos_and_plots(\n",
    "    file_name = rec_name,\n",
    "    windows = traj_tuples,  # List of (win_start, win_end, t_poi) tuples\n",
    "    window_key = w_key\n",
    "    )"
   ]
  },
  {
   "cell_type": "markdown",
   "metadata": {},
   "source": [
    "### Build concatenated videos"
   ]
  },
  {
   "cell_type": "code",
   "execution_count": null,
   "metadata": {},
   "outputs": [],
   "source": [
    "concatenate_and_overlay_videos(rec_name, vid_plot_path)"
   ]
  }
 ],
 "metadata": {
  "kernelspec": {
   "display_name": "base",
   "language": "python",
   "name": "python3"
  },
  "language_info": {
   "codemirror_mode": {
    "name": "ipython",
    "version": 3
   },
   "file_extension": ".py",
   "mimetype": "text/x-python",
   "name": "python",
   "nbconvert_exporter": "python",
   "pygments_lexer": "ipython3",
   "version": "3.11.10"
  }
 },
 "nbformat": 4,
 "nbformat_minor": 2
}
