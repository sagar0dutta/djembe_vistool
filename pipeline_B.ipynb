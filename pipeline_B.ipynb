{
 "cells": [
  {
   "cell_type": "code",
   "execution_count": 1,
   "metadata": {},
   "outputs": [],
   "source": [
    "import os\n",
    "import pickle\n",
    "import random\n",
    "import numpy as np\n",
    "import pandas as pd\n",
    "# import cv2\n",
    "# import matplotlib\n",
    "# matplotlib.use('Agg')  # Use non-interactive backend\n",
    "# import matplotlib.pyplot as plt\n",
    "# import matplotlib.animation as animation\n",
    "# from matplotlib.lines import Line2D\n",
    "# from scipy.interpolate import interp1d\n",
    "# import subprocess\n",
    "\n",
    "from utils_pipeline.pipeline_B import *\n",
    "from utils_mocap_viz.video_layout import combine_views, get_video_paths"
   ]
  },
  {
   "cell_type": "markdown",
   "metadata": {},
   "source": [
    "### Prepare window around beats and subdivision"
   ]
  },
  {
   "cell_type": "code",
   "execution_count": 2,
   "metadata": {},
   "outputs": [
    {
     "name": "stdout",
     "output_type": "stream",
     "text": [
      "Loaded cycle_segments from BKO_E1_D1_02_Maraka_included_0.4.pkl\n",
      "cycle_segments: [(166.55722222199998, 168.02211111066666), (168.02211111066666, 169.503), (169.503, 170.9785555553333), (170.9785555553333, 172.4505555553333), (172.4505555553333, 173.9083333333333), (173.9083333333333, 175.364333333), (175.364333333, 176.802555555), (176.802555555, 178.222111111), (198.59099999966668, 199.94477777766667), (328.99099999966666, 330.274555555), (330.274555555, 331.5225555553333), (331.5225555553333, 332.758111111), (332.758111111, 333.9989999996667), (333.9989999996667, 335.2452222223333), (335.2452222223333, 336.5394444445)]\n",
      "Number of windows for each beat/subdivision:\n",
      "  beat_1: 15 windows\n",
      "  beat_2: 15 windows\n",
      "  beat_3: 15 windows\n",
      "  beat_4: 15 windows\n",
      "  subdiv_2: 15 windows\n",
      "  subdiv_3: 15 windows\n",
      "  subdiv_5: 15 windows\n",
      "  subdiv_6: 15 windows\n",
      "  subdiv_8: 15 windows\n",
      "  subdiv_9: 15 windows\n",
      "  subdiv_11: 15 windows\n",
      "  subdiv_12: 15 windows\n"
     ]
    }
   ],
   "source": [
    "traj_dir  = \"traj_files\"\n",
    "file_name = \"BKO_E1_D1_02_Maraka\"\n",
    "status    = \"included\"   # or \"excluded\"\n",
    "value     = \"0.4\"        # or any other threshold\n",
    "\n",
    "cycle_segs, windows = compute_windows(traj_dir, file_name, status, value)"
   ]
  },
  {
   "cell_type": "markdown",
   "metadata": {},
   "source": [
    "### Generate trajectory video + dance video plots"
   ]
  },
  {
   "cell_type": "code",
   "execution_count": 3,
   "metadata": {},
   "outputs": [
    {
     "name": "stdout",
     "output_type": "stream",
     "text": [
      "dict_keys(['beat_1', 'beat_2', 'beat_3', 'beat_4', 'subdiv_2', 'subdiv_3', 'subdiv_5', 'subdiv_6', 'subdiv_8', 'subdiv_9', 'subdiv_11', 'subdiv_12'])\n",
      "15\n"
     ]
    }
   ],
   "source": [
    "w_key = \"subdiv_2\"\n",
    "vid_plot_path = f\"cycle_videos/{file_name}/{w_key}/\"\n",
    "\n",
    "traj_tuples = random.sample(windows[w_key], 2)  # Randomly sample 2 tuples from the list\n",
    "\n",
    "# traj_tuples = windows[w_key][0:nb]\n",
    "print(windows.keys())\n",
    "print(len(windows[w_key]))"
   ]
  },
  {
   "cell_type": "code",
   "execution_count": null,
   "metadata": {},
   "outputs": [],
   "source": [
    "extract_cycle_videos_and_plots(\n",
    "    file_name = file_name,\n",
    "    windows = traj_tuples,  # List of (win_start, win_end, t_poi) tuples\n",
    "    window_key = w_key,\n",
    "    figsize = (10, 3),\n",
    "    dpi = 200,\n",
    "    )"
   ]
  },
  {
   "cell_type": "markdown",
   "metadata": {},
   "source": [
    "### Build concatenated videos"
   ]
  },
  {
   "cell_type": "code",
   "execution_count": null,
   "metadata": {},
   "outputs": [],
   "source": [
    "concatenate_and_overlay_videos(file_name, vid_plot_path)"
   ]
  },
  {
   "cell_type": "markdown",
   "metadata": {},
   "source": [
    "### Combine Videos"
   ]
  },
  {
   "cell_type": "code",
   "execution_count": 4,
   "metadata": {},
   "outputs": [
    {
     "name": "stdout",
     "output_type": "stream",
     "text": [
      "\n",
      "Video 1 info:\n",
      "{\n",
      "    \"programs\": [\n",
      "\n",
      "    ],\n",
      "    \"streams\": [\n",
      "        {\n",
      "            \"width\": 1920,\n",
      "            \"height\": 1080,\n",
      "            \"r_frame_rate\": \"50/1\"\n",
      "        }\n",
      "    ]\n",
      "}\n",
      "\n",
      "\n",
      "Video 2 info:\n",
      "{\n",
      "    \"programs\": [\n",
      "\n",
      "    ],\n",
      "    \"streams\": [\n",
      "        {\n",
      "            \"width\": 2000,\n",
      "            \"height\": 600,\n",
      "            \"r_frame_rate\": \"50/1\"\n",
      "        }\n",
      "    ]\n",
      "}\n",
      "\n",
      "\n",
      "Preparing to combine videos:\n",
      "Output file: cycle_videos/BKO_E1_D1_02_Maraka/subdiv_2/final_combined_BKO_E1_D1_02_Maraka.mp4\n",
      "Frame rate: 24 fps\n",
      "Number of input files: 2\n",
      "Video dimensions: 1920x540 for each video\n",
      "Input video 1: cycle_videos/BKO_E1_D1_02_Maraka/subdiv_2/concatenated_video.mp4\n",
      "Input video 2: cycle_videos/BKO_E1_D1_02_Maraka/subdiv_2/concatenated_plot.mp4\n",
      "\n",
      "FFmpeg command:\n",
      "ffmpeg -y -i cycle_videos/BKO_E1_D1_02_Maraka/subdiv_2/concatenated_video.mp4 -i cycle_videos/BKO_E1_D1_02_Maraka/subdiv_2/concatenated_plot.mp4 -filter_complex [0:v]scale=1920:540:force_original_aspect_ratio=1,pad=1920:540:(ow-iw)/2:(oh-ih)/2[v0];[1:v]scale=1920:540:force_original_aspect_ratio=1,pad=1920:540:(ow-iw)/2:(oh-ih)/2[v1];[v0][v1]vstack[v] -map [v] -map 0:a -c:v libx264 -c:a aac -preset ultrafast -crf 23 -pix_fmt yuv420p -r 24 cycle_videos/BKO_E1_D1_02_Maraka/subdiv_2/final_combined_BKO_E1_D1_02_Maraka.mp4\n",
      "\n",
      "Executing FFmpeg command...\n",
      "FFmpeg command completed successfully\n",
      "\n",
      "Combined video saved to cycle_videos/BKO_E1_D1_02_Maraka/subdiv_2/final_combined_BKO_E1_D1_02_Maraka.mp4\n"
     ]
    }
   ],
   "source": [
    "concat_plot = os.path.join(vid_plot_path, \"concatenated_plot.mp4\")  # size 2000 by 600\n",
    "concat_video = os.path.join(vid_plot_path, \"concatenated_video.mp4\") # 1920 by 1080\n",
    "\n",
    "view_videos = {\n",
    "    'concatenated_video': concat_video,  # Your concatenated video path\n",
    "    'concatenated_plot': concat_plot,    # Your concatenated plot path\n",
    "}\n",
    "\n",
    "layout = [\n",
    "    {'view': 'concatenated_video', 'x': 0, 'y': 0, 'width': 1920, 'height': 540},\n",
    "    {'view': 'concatenated_plot', 'x': 0, 'y': 540, 'width': 1920, 'height': 540}\n",
    "]\n",
    "\n",
    "final_output = combine_trajectory_views(\n",
    "    filename= file_name,\n",
    "    output_dir= vid_plot_path,\n",
    "    view_videos= view_videos,\n",
    "    layout_config= layout,\n",
    "    video_size= (1920, 1280),\n",
    "    fps=24\n",
    ")"
   ]
  },
  {
   "cell_type": "code",
   "execution_count": null,
   "metadata": {},
   "outputs": [],
   "source": []
  }
 ],
 "metadata": {
  "kernelspec": {
   "display_name": "base",
   "language": "python",
   "name": "python3"
  },
  "language_info": {
   "codemirror_mode": {
    "name": "ipython",
    "version": 3
   },
   "file_extension": ".py",
   "mimetype": "text/x-python",
   "name": "python",
   "nbconvert_exporter": "python",
   "pygments_lexer": "ipython3",
   "version": "3.11.10"
  }
 },
 "nbformat": 4,
 "nbformat_minor": 2
}
