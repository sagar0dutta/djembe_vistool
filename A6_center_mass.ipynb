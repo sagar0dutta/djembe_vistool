{
 "cells": [
  {
   "cell_type": "code",
   "execution_count": 2,
   "metadata": {},
   "outputs": [],
   "source": [
    "import os\n",
    "import pickle\n",
    "import numpy as np\n",
    "import pandas as pd\n",
    "import matplotlib.pyplot as plt\n",
    "from bvh_converter import bvh_mod\n",
    "from scipy.signal import savgol_filter\n",
    "\n",
    "from matplotlib.lines import Line2D\n",
    "from scipy.interpolate import interp1d\n",
    "\n",
    "# from utils_trajectory.trajectory_by_subdiv import plot_foot_trajectories_by_subdiv\n",
    "# from utils_trajectory.trajectory_by_beat import plot_foot_trajectories_by_beat\n",
    "from utils_trajectory.trajectory_cycle import plot_all_cycles_trajectories\n",
    "from utils_pipeline.pipeline_A import *"
   ]
  },
  {
   "cell_type": "code",
   "execution_count": 3,
   "metadata": {},
   "outputs": [],
   "source": [
    "motion_data_dir = \"data/motion_data_pkl\"\n",
    "file_name = \"BKO_E1_D1_02_Maraka_T\"     # pickle file \n",
    "\n",
    "# Load the pickle file\n",
    "pkl_path = f\"{motion_data_dir}/{file_name}.pkl\"\n",
    "with open(pkl_path, 'rb') as f:\n",
    "    motion_data = pickle.load(f)\n"
   ]
  },
  {
   "cell_type": "code",
   "execution_count": 8,
   "metadata": {},
   "outputs": [
    {
     "data": {
      "text/plain": [
       "array([0.874241, 0.874626, 0.875027, ..., 0.888218, 0.888371, 0.888506])"
      ]
     },
     "execution_count": 8,
     "metadata": {},
     "output_type": "execute_result"
    }
   ],
   "source": [
    "motion_data[\"position\"]['SEGMENT_PELVIS'][:,2]"
   ]
  },
  {
   "cell_type": "markdown",
   "metadata": {},
   "source": [
    "### Visualize trajectories with thresholding and average"
   ]
  },
  {
   "cell_type": "code",
   "execution_count": null,
   "metadata": {},
   "outputs": [],
   "source": [
    "file_name = \"BKO_E1_D1_02_Maraka\"\n",
    "mode_df = pd.read_csv(\"data/subset_dance_annotation/\" + file_name + \"_Dancers.csv\")\n",
    "\n",
    "mode_group = mode_df[mode_df[\"mocap\"] == \"gr\"].reset_index(drop=True)\n",
    "mode_individual = mode_df[mode_df[\"mocap\"] == \"in\"].reset_index(drop=True)\n",
    "mode_audience = mode_df[mode_df[\"mocap\"] == \"au\"].reset_index(drop=True)\n",
    "\n",
    "# dict of segments\n",
    "segments = {\n",
    "    \"group\":      get_segments(mode_group,      \"gr\"),\n",
    "    \"individual\": get_segments(mode_individual, \"in\"),\n",
    "    \"audience\":   get_segments(mode_audience,   \"au\")\n",
    "}\n",
    "\n",
    "\n",
    "# mode_name, segmnt = get_tsegment_for(\"group\", mode_group,      \"gr\")\n",
    "mode_name, segmnt = get_tsegment_for(\"individual\", mode_individual, \"in\")\n",
    "# mode_name, segmnt   = get_tsegment_for(\"audience\",   mode_audience,   \"au\")\n",
    "\n",
    "\n",
    "save_dir = f\"output_static_plot/all_cycles_trajectories/{file_name}\"\n",
    "os.makedirs(save_dir, exist_ok=True)\n",
    "\n",
    "fig, ax = plot_all_cycles_trajectories(\n",
    "            file_name=file_name,\n",
    "            mode=mode_name,\n",
    "            base_path_cycles=\"data/virtual_cycles\",\n",
    "            base_path_logs=\"data/logs_v2_may\",\n",
    "            time_segments=segmnt,  # Pass all time segments for this mode\n",
    "            n_beats_per_cycle=4, \n",
    "            n_subdiv_per_beat=3, \n",
    "            traj_threshold=0.4,     # exclude trajectories below this threshold\n",
    "            show_gray_plots= True,\n",
    "            show_trajectories= True,  # New parameter to control trajectory lines\n",
    "            show_vlines= False        # New parameter to control vertical lines\n",
    "        )\n",
    "\n",
    "plt.show(fig)\n",
    "\n",
    "# fig.savefig(os.path.join(save_dir, f\"{file_name}_{mode}.png\"))\n",
    "# plt.close(fig)"
   ]
  }
 ],
 "metadata": {
  "kernelspec": {
   "display_name": "base",
   "language": "python",
   "name": "python3"
  },
  "language_info": {
   "codemirror_mode": {
    "name": "ipython",
    "version": 3
   },
   "file_extension": ".py",
   "mimetype": "text/x-python",
   "name": "python",
   "nbconvert_exporter": "python",
   "pygments_lexer": "ipython3",
   "version": "3.11.10"
  }
 },
 "nbformat": 4,
 "nbformat_minor": 2
}
