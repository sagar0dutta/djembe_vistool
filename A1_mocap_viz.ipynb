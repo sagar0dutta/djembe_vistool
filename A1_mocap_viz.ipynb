{
 "cells": [
  {
   "cell_type": "code",
   "execution_count": 1,
   "metadata": {},
   "outputs": [],
   "source": [
    "import os\n",
    "import pickle\n",
    "# import pandas as pd\n",
    "from utils_mocap_viz.generate_views import (    # organize this\n",
    "    get_output_dir,\n",
    "    prepare_videos\n",
    ")\n",
    "from utils_mocap_viz.animated_phase_analysis import generate_all_animations\n",
    "from utils_mocap_viz.animated_merged_phase_analysis import animate_merged_phase_analysis\n",
    "from utils_mocap_viz.kinematic_visualizer import visualize_joint_position\n",
    "from utils_mocap_viz.video_layout import combine_views, get_video_paths\n",
    "\n",
    "# from utils_subdivision.gen_distribution_single_plots import find_cycle_phases, kde_estimate\n",
    "\n",
    "from utils_dance_anim.dance_dot import animate_dance_phase_analysis, save_dance_phase_plot"
   ]
  },
  {
   "cell_type": "markdown",
   "metadata": {},
   "source": [
    "###  Configuration"
   ]
  },
  {
   "cell_type": "code",
   "execution_count": null,
   "metadata": {},
   "outputs": [],
   "source": [
    "filename = \"BKO_E1_D1_02_Maraka\"\n",
    "bvh_dir = os.path.join(\"data\", \"bvh_files\")\n",
    "bvh_file = os.path.join(bvh_dir, filename + \"_T\")\n",
    "\n",
    "mode = [\"group\", \"individual\", \"audience\"]\n",
    "m_idx = 0\n",
    "\n",
    "# path to onsets and cycles csv files\n",
    "cycles_csv_path = f\"data/virtual_cycles/{filename}_C.csv\"\n",
    "onsets_csv_path = f\"data/drum_onsets/{filename}.csv\"\n",
    "dmode_path = f\"data/dance_modes_ts/{filename}_{mode[m_idx]}.pkl\"\n",
    "\n",
    "with open(dmode_path, \"rb\") as f:\n",
    "    dmode = pickle.load(f)\n",
    "\n",
    "\n",
    "print(f\"Time segments for {mode[m_idx]}:\",dmode)"
   ]
  },
  {
   "cell_type": "code",
   "execution_count": null,
   "metadata": {},
   "outputs": [],
   "source": [
    "start_time, end_time = dmode[0]\n",
    "print(start_time, end_time)\n",
    "\n",
    "# prepare output directory\n",
    "output_dir = get_output_dir(bvh_file, start_time, end_time)\n",
    "output_fps = 24"
   ]
  },
  {
   "cell_type": "markdown",
   "metadata": {},
   "source": [
    "### Generate Separate Drum distribution video plots"
   ]
  },
  {
   "cell_type": "code",
   "execution_count": null,
   "metadata": {},
   "outputs": [],
   "source": [
    "generate_all_animations(\n",
    "    filename, start_time, end_time,\n",
    "    cycles_csv_path, onsets_csv_path,\n",
    "    save_dir=output_dir,\n",
    "    figsize=(10, 3), dpi=200\n",
    ")"
   ]
  },
  {
   "cell_type": "markdown",
   "metadata": {},
   "source": [
    "### Generate merged distribution video plot (DunDun, J1, J2)"
   ]
  },
  {
   "cell_type": "code",
   "execution_count": null,
   "metadata": {},
   "outputs": [],
   "source": [
    "save_fname = \"drum_combined.mp4\"\n",
    "\n",
    "animate_merged_phase_analysis(\n",
    "    filename, start_time, end_time,\n",
    "    cycles_csv_path, onsets_csv_path,\n",
    "    figsize=(10, 3), dpi=200,\n",
    "    save_fname = save_fname,\n",
    "    save_dir=output_dir\n",
    "    )"
   ]
  },
  {
   "cell_type": "markdown",
   "metadata": {},
   "source": [
    "### Generate Skeleton Videos + trimmed video_mix + audio"
   ]
  },
  {
   "cell_type": "code",
   "execution_count": null,
   "metadata": {},
   "outputs": [],
   "source": [
    "# bvh_file = os.path.join(bvh_dir, filename + \"_T\")\n",
    "video_path = os.path.join(\"data\", \"videos\", f\"{filename}_pre_R_Mix.mp4\")\n",
    "video_size = (640, 360)\n",
    "\n",
    "# views_to_generate = ['front', 'right']\n",
    "\n",
    "output_dir, view_videos = prepare_videos(\n",
    "    filename= bvh_file,\n",
    "    start_time= start_time,\n",
    "    end_time= end_time,\n",
    "    video_path= video_path,\n",
    "    video_size= video_size,\n",
    "    fps= output_fps\n",
    ")"
   ]
  },
  {
   "cell_type": "markdown",
   "metadata": {},
   "source": [
    "### Generate animated kinematic plots"
   ]
  },
  {
   "cell_type": "code",
   "execution_count": 6,
   "metadata": {},
   "outputs": [],
   "source": [
    "joint_name = \"LeftAnkle\"  \n",
    "axis = 'y'      # y is vertical in bvh files"
   ]
  },
  {
   "cell_type": "code",
   "execution_count": null,
   "metadata": {},
   "outputs": [],
   "source": [
    "# Generate joint position visualization\n",
    "\n",
    "joint_video = os.path.join(output_dir, f\"{joint_name}_{axis}_position.mp4\")\n",
    "if not os.path.exists(joint_video):\n",
    "    visualize_joint_position(\n",
    "        bvh_file=bvh_file + \".bvh\",\n",
    "        joint_name= joint_name,\n",
    "        axis= axis,\n",
    "        start_time= start_time,\n",
    "        end_time= end_time,\n",
    "        output_fps= output_fps,\n",
    "        output_dir= output_dir,\n",
    "        fig_size= (12, 4),  # Half height for joint visualization\n",
    "        dpi= 200\n",
    "    )"
   ]
  },
  {
   "cell_type": "markdown",
   "metadata": {},
   "source": [
    "## 02 June: Define layouts + Combine Videos"
   ]
  },
  {
   "cell_type": "code",
   "execution_count": null,
   "metadata": {},
   "outputs": [],
   "source": [
    "paths = get_video_paths(output_dir, filename, joint_name, axis)\n",
    "paths"
   ]
  },
  {
   "cell_type": "code",
   "execution_count": null,
   "metadata": {},
   "outputs": [],
   "source": [
    "# ────────────────────────────────────────────────────────────────────────────────\n",
    "#  Define layouts (must reference keys returned by get_video_paths)\n",
    "# ────────────────────────────────────────────────────────────────────────────────\n",
    "layout = {\n",
    "    'L1': [\n",
    "        {'view': 'front',       'x': 0,   'y': 0,   'width': 320,  'height': 360},\n",
    "        {'view': 'right',       'x': 320, 'y': 0,   'width': 320,  'height': 360},\n",
    "        {'view': 'video_mix',   'x': 640, 'y': 0,   'width': 640,  'height': 360},\n",
    "        {'view': 'combined_drum',    'x': 0,   'y': 360, 'width': 1280, 'height': 360}\n",
    "    ],\n",
    "    'L2': [\n",
    "        {'view': 'front',         'x': 0,   'y': 0,   'width': 640,  'height': 360},\n",
    "        {'view': 'right',         'x': 640, 'y': 0,   'width': 640,  'height': 360},\n",
    "        {'view': 'joint_pos',     'x': 0,   'y': 360, 'width': 1280, 'height': 360}\n",
    "    ]\n",
    "}\n",
    "\n",
    "canvas_size = (1280, 720)\n",
    "# joint_name = \"LeftAnkle\"\n",
    "# axis = \"y\"\n",
    "\n",
    "# Choose which layout to use:\n",
    "layout_config = layout['L1']\n",
    "\n",
    "# ────────────────────────────────────────────────────────────────────────────────\n",
    "# 2.  Obtain video paths for all possible views\n",
    "#     (get_video_paths returns keys like 'front', 'right', 'combined',\n",
    "#      'video_mix', 'joint_pos', etc.)\n",
    "# ────────────────────────────────────────────────────────────────────────────────\n",
    "view_videos = get_video_paths(\n",
    "    output_dir=output_dir,\n",
    "    filename=filename,\n",
    "    joint_name=joint_name,\n",
    "    axis=axis\n",
    ")\n",
    "\n",
    "# ────────────────────────────────────────────────────────────────────────────────\n",
    "# Check for any missing videos required by the chosen layout\n",
    "# ────────────────────────────────────────────────────────────────────────────────\n",
    "required_views = {item['view'] for item in layout_config}\n",
    "missing_views = required_views - set(view_videos.keys())\n",
    "\n",
    "if missing_views:\n",
    "    print(f\"Warning: Missing videos for views: {missing_views}\")\n",
    "    print(\"Please generate those videos before attempting to combine.\")\n",
    "\n",
    "\n",
    "# ────────────────────────────────────────────────────────────────────────────────\n",
    "# 4.  Combine the videos using the specified layout\n",
    "# ────────────────────────────────────────────────────────────────────────────────\n",
    "combine_views(\n",
    "    filename= bvh_file, \n",
    "    start_time= start_time, \n",
    "    end_time= end_time,\n",
    "    output_dir= output_dir, \n",
    "    view_videos= view_videos,\n",
    "    layout_config= layout_config, \n",
    "    video_size= canvas_size, \n",
    "    fps= output_fps\n",
    ")\n"
   ]
  },
  {
   "cell_type": "markdown",
   "metadata": {},
   "source": [
    "### Generate Foot Onset Distribution Video Plot"
   ]
  },
  {
   "cell_type": "code",
   "execution_count": null,
   "metadata": {},
   "outputs": [],
   "source": [
    "dance_csv_path = f\"data/dance_onsets/{filename}_T_dance_onsets.csv\"\n",
    "animate_dance_phase_analysis(\n",
    "    filename, start_time, end_time,\n",
    "    cycles_csv_path, dance_csv_path,\n",
    "    figsize= (10, 3), dpi= 200, save_dir= output_dir\n",
    ")"
   ]
  },
  {
   "cell_type": "markdown",
   "metadata": {},
   "source": [
    "## Raw trajectory animation"
   ]
  },
  {
   "cell_type": "code",
   "execution_count": null,
   "metadata": {},
   "outputs": [],
   "source": [
    "import os\n",
    "import numpy as np\n",
    "import matplotlib\n",
    "# matplotlib.use('Agg')  # Use non-interactive backend\n",
    "import matplotlib.pyplot as plt\n",
    "import matplotlib.animation as animation\n",
    "import pandas as pd\n",
    "\n",
    "def animate_trajectories(\n",
    "    file_name: str,\n",
    "    W_start: float,\n",
    "    W_end: float,\n",
    "    base_path_logs: str = \"data/logs_v1_may\",\n",
    "    frame_rate: float = 240,\n",
    "    figsize: tuple = (10, 3),\n",
    "    dpi: int = 100,\n",
    "    save_dir: str = None\n",
    "):\n",
    "    \"\"\"\n",
    "    Animate the raw foot trajectories with a moving vertical playhead.\n",
    "    \"\"\"\n",
    "    # Build file paths\n",
    "    logs_onset_dir = os.path.join(base_path_logs, f\"{file_name}_T\", \"onset_info\")\n",
    "    left_zpos_csv = os.path.join(logs_onset_dir, f\"{file_name}_T_left_foot_zpos.csv\")\n",
    "    right_zpos_csv = os.path.join(logs_onset_dir, f\"{file_name}_T_right_foot_zpos.csv\")\n",
    "\n",
    "    # Load data\n",
    "    Lz = pd.read_csv(left_zpos_csv)[\"zpos\"].values\n",
    "    Rz = pd.read_csv(right_zpos_csv)[\"zpos\"].values\n",
    "    n_frames = len(Lz)\n",
    "    times = np.arange(n_frames) / frame_rate\n",
    "\n",
    "    # Trim to window\n",
    "    win_mask = (times >= W_start) & (times <= W_end)\n",
    "    t_win = times[win_mask]\n",
    "    L_win = Lz[win_mask]\n",
    "    R_win = Rz[win_mask]\n",
    "\n",
    "    # Create figure and axis\n",
    "    fig, ax = plt.subplots(figsize=figsize, dpi=dpi)\n",
    "    \n",
    "    # Plot trajectories\n",
    "    ax.plot(t_win, L_win, '-', color='blue', alpha=0.5, label='Left Foot')\n",
    "    ax.plot(t_win, R_win, '--', color='red', alpha=0.5, label='Right Foot')\n",
    "    \n",
    "    # Set y-axis limits based on the data\n",
    "    y_min = min(L_win.min(), R_win.min())\n",
    "    y_max = max(L_win.max(), R_win.max())\n",
    "    y_range = y_max - y_min\n",
    "    ax.set_ylim(y_min - 0.1*y_range, y_max + 0.1*y_range)\n",
    "    \n",
    "    # Create vertical playhead\n",
    "    v_playhead, = ax.plot([W_start, W_start], [y_min - 0.1*y_range, y_max + 0.1*y_range], \n",
    "                         'k-', lw=2, alpha=0.7)\n",
    "    \n",
    "    # Set up the plot\n",
    "    ax.set_xlabel('Time (s)')\n",
    "    ax.set_ylabel('Foot Position')\n",
    "    ax.set_title(f'File: {file_name} | Window: {W_start:.1f}s - {W_end:.1f}s')\n",
    "    ax.grid(True, alpha=0.3)\n",
    "    ax.legend(loc='upper left')\n",
    "    \n",
    "    def update(frame):\n",
    "        \"\"\"Update function for animation.\"\"\"\n",
    "        # Update vertical playhead position\n",
    "        v_playhead.set_xdata([frame, frame])\n",
    "        # Update title with current time\n",
    "        ax.set_title(f'File: {file_name} | Window: {W_start:.1f}s - {W_end:.1f}s | Time: {frame:.2f}s')\n",
    "        return v_playhead,\n",
    "    \n",
    "    # Create animation\n",
    "    print(\"\\nCreating animation...\")\n",
    "    frames = np.arange(W_start, W_end, 0.05)  # 50ms steps\n",
    "    print(f\"Animation will have {len(frames)} frames\")\n",
    "    print(f\"Time range: {frames[0]:.2f}s - {frames[-1]:.2f}s\")\n",
    "    \n",
    "    anim = animation.FuncAnimation(\n",
    "        fig, update, frames=frames,\n",
    "        interval=50, blit=True\n",
    "    )\n",
    "    \n",
    "    # Apply tight_layout before saving\n",
    "    plt.tight_layout()\n",
    "    \n",
    "    if save_dir:\n",
    "        # Create save directory if it doesn't exist\n",
    "        os.makedirs(save_dir, exist_ok=True)\n",
    "        \n",
    "        # Create filename\n",
    "        save_filename = f\"{file_name}_trajectories.mp4\"\n",
    "        save_path = os.path.join(save_dir, save_filename)\n",
    "        \n",
    "        print(f\"\\nSaving animation to: {save_path}\")\n",
    "        try:\n",
    "            # Save animation as MP4\n",
    "            writer = animation.FFMpegWriter(fps=24, bitrate=2000)\n",
    "            anim.save(save_path, writer=writer)\n",
    "            plt.close(fig)  # Explicitly close the figure\n",
    "            print(\"Animation saved successfully!\")\n",
    "        except Exception as e:\n",
    "            print(f\"Error saving animation: {str(e)}\")\n",
    "            plt.close(fig)  # Close figure even if there's an error\n",
    "    else:\n",
    "        print(\"Error: save_dir must be provided\")\n",
    "        plt.close(fig)  # Close figure if no save directory\n",
    "    \n",
    "    return anim\n",
    "\n",
    "if __name__ == \"__main__\":\n",
    "    # Example usage\n",
    "    file_name = \"BKO_E1_D2_03_Suku\"\n",
    "    W_start = 60.0\n",
    "    W_end = 80.0\n",
    "    figsize = (10, 3)\n",
    "    dpi = 150\n",
    "    save_dir = \"trajectory_animations\"\n",
    "    \n",
    "    animate_trajectories(\n",
    "        file_name, W_start, W_end,\n",
    "        figsize=figsize, dpi=dpi,\n",
    "        save_dir=save_dir\n",
    "    )"
   ]
  }
 ],
 "metadata": {
  "kernelspec": {
   "display_name": "base",
   "language": "python",
   "name": "python3"
  },
  "language_info": {
   "codemirror_mode": {
    "name": "ipython",
    "version": 3
   },
   "file_extension": ".py",
   "mimetype": "text/x-python",
   "name": "python",
   "nbconvert_exporter": "python",
   "pygments_lexer": "ipython3",
   "version": "3.11.10"
  }
 },
 "nbformat": 4,
 "nbformat_minor": 2
}
